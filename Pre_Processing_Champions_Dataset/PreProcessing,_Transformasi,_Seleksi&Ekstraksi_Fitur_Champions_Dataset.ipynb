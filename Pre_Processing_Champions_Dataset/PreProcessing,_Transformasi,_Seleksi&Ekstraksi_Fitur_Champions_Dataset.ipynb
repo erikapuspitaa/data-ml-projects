{
  "nbformat": 4,
  "nbformat_minor": 0,
  "metadata": {
    "colab": {
      "provenance": []
    },
    "kernelspec": {
      "name": "python3",
      "display_name": "Python 3"
    },
    "language_info": {
      "name": "python"
    }
  },
  "cells": [
    {
      "cell_type": "markdown",
      "source": [
        "### **Mengimport module yang akan digunakan (numpy, pandas, dan scipy) dan Mengimport dan menampilkan dataset**"
      ],
      "metadata": {
        "id": "-Y3Gn53dbVfF"
      }
    },
    {
      "cell_type": "markdown",
      "source": [
        "# **PRE-PROCESSING CHAMPIONS DATASET**"
      ],
      "metadata": {
        "id": "S445yTkocqYr"
      }
    },
    {
      "cell_type": "markdown",
      "source": [
        "### **About Dataset**\n",
        "\n",
        "**wintotal:** Jumlah total pertandingan yang telah dimainkan oleh tim.\n",
        "\n",
        "**lose_total:** Jumlah total pertandingan yang telah kalah oleh tim.\n",
        "\n",
        "**sum_blue_side:** Jumlah total pertandingan yang dimenangkan oleh tim biru (blue side).\n",
        "\n",
        "**win_blue_side:** Jumlah pertandingan yang dimenangkan oleh tim biru (blue side)."
      ],
      "metadata": {
        "id": "EogDba7Ic9fj"
      }
    },
    {
      "cell_type": "code",
      "execution_count": 20,
      "metadata": {
        "id": "rWga0gPSafAE"
      },
      "outputs": [],
      "source": [
        "import numpy as np\n",
        "import pandas as pd\n",
        "import scipy.stats as stats"
      ]
    },
    {
      "cell_type": "code",
      "source": [
        "data = pd.read_excel(\"championss.xlsx\")\n",
        "print(\"describe = \\n\",data.describe())\n",
        "print(\"head = \\n\",data.head())\n",
        "variabel = ['wintotal', 'lose_total','sum_blue_side','win_blue_side']"
      ],
      "metadata": {
        "colab": {
          "base_uri": "https://localhost:8080/"
        },
        "id": "O4V6cZ2ZaxTR",
        "outputId": "1d6f8dc3-100a-45ce-a411-998ca74a6a81"
      },
      "execution_count": 21,
      "outputs": [
        {
          "output_type": "stream",
          "name": "stdout",
          "text": [
            "describe = \n",
            "          wintotal  lose_total  sum_blue_side  win_blue_side\n",
            "count  108.000000  108.000000     108.000000     108.000000\n",
            "mean     5.898148    5.870370       5.879630       3.194444\n",
            "std      6.983211    5.850302       6.919723       4.296180\n",
            "min      0.000000    0.000000       0.000000       0.000000\n",
            "25%      1.000000    1.000000       1.000000       0.000000\n",
            "50%      3.500000    4.000000       4.000000       2.000000\n",
            "75%      9.000000    9.250000       8.250000       5.000000\n",
            "max     33.000000   25.000000      35.000000      24.000000\n",
            "head = \n",
            "    wintotal  lose_total  sum_blue_side  win_blue_side\n",
            "0        33          17             28             21\n",
            "1        24          25             23             12\n",
            "2        24          24             27             14\n",
            "3        29          17             35             24\n",
            "4        23          20             20             10\n"
          ]
        }
      ]
    },
    {
      "cell_type": "markdown",
      "source": [
        "### **Mendeteksi outlier**"
      ],
      "metadata": {
        "id": "iHwUuT0nbbTv"
      }
    },
    {
      "cell_type": "code",
      "source": [
        "outliers = []\n",
        "def detect_outlier(data):\n",
        "\n",
        "    threshold = 3\n",
        "    mean_1 = np.mean(data)\n",
        "    std_1 = np.std(data)\n",
        "\n",
        "    for y in data:\n",
        "        z_score= (y - mean_1)/std_1\n",
        "        if np.abs(z_score) > threshold:\n",
        "            outliers.append(y)\n",
        "    return outliers\n",
        "\n",
        "for var in variabel:\n",
        "    outlier_datapoints = detect_outlier(data[var])\n",
        "    print(\"Outlier \", var, \" = \", outlier_datapoints)\n",
        "\n",
        "print()"
      ],
      "metadata": {
        "colab": {
          "base_uri": "https://localhost:8080/"
        },
        "id": "V3wDbnlwazd3",
        "outputId": "bbd1f1f8-effe-4abf-bd40-091bcbd25b2c"
      },
      "execution_count": 22,
      "outputs": [
        {
          "output_type": "stream",
          "name": "stdout",
          "text": [
            "Outlier  wintotal  =  [33, 29]\n",
            "Outlier  lose_total  =  [33, 29, 25, 24]\n",
            "Outlier  sum_blue_side  =  [33, 29, 25, 24, 28, 27, 35, 27]\n",
            "Outlier  win_blue_side  =  [33, 29, 25, 24, 28, 27, 35, 27, 21, 24]\n",
            "\n"
          ]
        }
      ]
    },
    {
      "cell_type": "markdown",
      "source": [
        "### **Melakukan remove outlier, kemudian mengecek apakah data outlier pada variabel BloodSugar sudah terhapus dengan menggunakan salah satu nilai data outliernya**"
      ],
      "metadata": {
        "id": "vjuANFegbkQ2"
      }
    },
    {
      "cell_type": "code",
      "source": [
        "z_scores = stats.zscore(data)\n",
        "abs_z_scores = np.abs(z_scores)\n",
        "filtered_entries = (abs_z_scores < 3).all(axis=1)\n",
        "new_data = data[filtered_entries]\n",
        "\n",
        "print(new_data)"
      ],
      "metadata": {
        "colab": {
          "base_uri": "https://localhost:8080/"
        },
        "id": "mkwgmYfHbMOc",
        "outputId": "fb7bcb3f-cf6f-4fd6-d9b2-ee695f689960"
      },
      "execution_count": 23,
      "outputs": [
        {
          "output_type": "stream",
          "name": "stdout",
          "text": [
            "     wintotal  lose_total  sum_blue_side  win_blue_side\n",
            "4          23          20             20             10\n",
            "6          24          14             20             13\n",
            "7          18          15             13              8\n",
            "8          16          17             14              7\n",
            "9          19          11             15             10\n",
            "..        ...         ...            ...            ...\n",
            "103         0           1              1              0\n",
            "104         0           1              0              0\n",
            "105         0           1              0              0\n",
            "106         0           1              0              0\n",
            "107         0           1              0              0\n",
            "\n",
            "[103 rows x 4 columns]\n"
          ]
        }
      ]
    },
    {
      "cell_type": "markdown",
      "source": [
        "### **Mendeteksi missing value**"
      ],
      "metadata": {
        "id": "nAgQVXvabqNj"
      }
    },
    {
      "cell_type": "code",
      "source": [
        "print(data.isna().sum())"
      ],
      "metadata": {
        "colab": {
          "base_uri": "https://localhost:8080/"
        },
        "id": "_L_2ZQkRbQ1b",
        "outputId": "34e43c0d-2f07-4da2-8a2d-1317eff77545"
      },
      "execution_count": 24,
      "outputs": [
        {
          "output_type": "stream",
          "name": "stdout",
          "text": [
            "wintotal         0\n",
            "lose_total       0\n",
            "sum_blue_side    0\n",
            "win_blue_side    0\n",
            "dtype: int64\n"
          ]
        }
      ]
    },
    {
      "cell_type": "markdown",
      "source": [
        "Karena tidak ditemukan adanya missing value maka tidak perlu dilakukan langkah-langkah penanganan terhadap missing value"
      ],
      "metadata": {
        "id": "IiUVGNGobvA7"
      }
    },
    {
      "cell_type": "code",
      "source": [
        "from sklearn import preprocessing\n",
        "import scipy.stats as stats\n",
        "\n",
        "# Normalisasi data\n",
        "min_max_scaler = preprocessing.MinMaxScaler()\n",
        "np_scaled = min_max_scaler.fit_transform(data)\n",
        "df_normalized = pd.DataFrame(np_scaled)\n",
        "\n",
        "# Pembacaan data setelah dinormalisasi\n",
        "print(\"\\nData hasil normalisasi:\\n\", df_normalized)"
      ],
      "metadata": {
        "colab": {
          "base_uri": "https://localhost:8080/"
        },
        "id": "WeOg7zJgleyl",
        "outputId": "97329ba0-90b2-4503-dec6-dd5c1ef253a2"
      },
      "execution_count": 25,
      "outputs": [
        {
          "output_type": "stream",
          "name": "stdout",
          "text": [
            "\n",
            "Data hasil normalisasi:\n",
            "             0     1         2         3\n",
            "0    1.000000  0.68  0.800000  0.875000\n",
            "1    0.727273  1.00  0.657143  0.500000\n",
            "2    0.727273  0.96  0.771429  0.583333\n",
            "3    0.878788  0.68  1.000000  1.000000\n",
            "4    0.696970  0.80  0.571429  0.416667\n",
            "..        ...   ...       ...       ...\n",
            "103  0.000000  0.04  0.028571  0.000000\n",
            "104  0.000000  0.04  0.000000  0.000000\n",
            "105  0.000000  0.04  0.000000  0.000000\n",
            "106  0.000000  0.04  0.000000  0.000000\n",
            "107  0.000000  0.04  0.000000  0.000000\n",
            "\n",
            "[108 rows x 4 columns]\n"
          ]
        }
      ]
    },
    {
      "cell_type": "markdown",
      "source": [
        "# **Seleksi dan Ekstraksi Fitur**"
      ],
      "metadata": {
        "id": "29hkZEy7m9JI"
      }
    },
    {
      "cell_type": "markdown",
      "source": [
        "Memilih kolom win_blue_side dengan nilai >6 dan < 20"
      ],
      "metadata": {
        "id": "caKyOd0knKGB"
      }
    },
    {
      "cell_type": "code",
      "source": [
        "from sklearn.preprocessing import StandardScaler\n",
        "from sklearn.decomposition import PCA\n",
        "from sklearn.cluster import KMeans\n",
        "import matplotlib.pyplot as plt"
      ],
      "metadata": {
        "id": "mVkl9j5SnUSk"
      },
      "execution_count": 42,
      "outputs": []
    },
    {
      "cell_type": "code",
      "source": [
        "# Filter data based on conditions\n",
        "data = data[(data['win_blue_side'] >= 6) & (data['win_blue_side'] <= 18)]\n",
        "\n",
        "# Select all columns in data1\n",
        "data1 = data.copy()\n",
        "\n",
        "# Selecting features and target variable\n",
        "X = data1.iloc[:, :4]\n",
        "X"
      ],
      "metadata": {
        "colab": {
          "base_uri": "https://localhost:8080/",
          "height": 645
        },
        "id": "COnBpf4jqavS",
        "outputId": "1d1986e0-41e5-4fb6-c6b9-6190dfe80b3f"
      },
      "execution_count": 43,
      "outputs": [
        {
          "output_type": "execute_result",
          "data": {
            "text/plain": [
              "    wintotal  lose_total  sum_blue_side  win_blue_side\n",
              "1         24          25             23             12\n",
              "2         24          24             27             14\n",
              "4         23          20             20             10\n",
              "5         22          21             27             13\n",
              "6         24          14             20             13\n",
              "7         18          15             13              8\n",
              "8         16          17             14              7\n",
              "9         19          11             15             10\n",
              "10        11          18             14              8\n",
              "11        16          11             15             10\n",
              "13        14          11             14              6\n",
              "14        13          12             13              8\n",
              "19        13          10             13              6\n",
              "20        11          10             14              9\n",
              "22        12           7              8              6\n",
              "24         9           8              9              6\n",
              "27         7           9              8              6\n",
              "34        12           2             10              9\n",
              "36        11           2              8              8"
            ],
            "text/html": [
              "\n",
              "  <div id=\"df-d5ce9041-d1c2-4b65-9bc9-34d9c3245a9c\" class=\"colab-df-container\">\n",
              "    <div>\n",
              "<style scoped>\n",
              "    .dataframe tbody tr th:only-of-type {\n",
              "        vertical-align: middle;\n",
              "    }\n",
              "\n",
              "    .dataframe tbody tr th {\n",
              "        vertical-align: top;\n",
              "    }\n",
              "\n",
              "    .dataframe thead th {\n",
              "        text-align: right;\n",
              "    }\n",
              "</style>\n",
              "<table border=\"1\" class=\"dataframe\">\n",
              "  <thead>\n",
              "    <tr style=\"text-align: right;\">\n",
              "      <th></th>\n",
              "      <th>wintotal</th>\n",
              "      <th>lose_total</th>\n",
              "      <th>sum_blue_side</th>\n",
              "      <th>win_blue_side</th>\n",
              "    </tr>\n",
              "  </thead>\n",
              "  <tbody>\n",
              "    <tr>\n",
              "      <th>1</th>\n",
              "      <td>24</td>\n",
              "      <td>25</td>\n",
              "      <td>23</td>\n",
              "      <td>12</td>\n",
              "    </tr>\n",
              "    <tr>\n",
              "      <th>2</th>\n",
              "      <td>24</td>\n",
              "      <td>24</td>\n",
              "      <td>27</td>\n",
              "      <td>14</td>\n",
              "    </tr>\n",
              "    <tr>\n",
              "      <th>4</th>\n",
              "      <td>23</td>\n",
              "      <td>20</td>\n",
              "      <td>20</td>\n",
              "      <td>10</td>\n",
              "    </tr>\n",
              "    <tr>\n",
              "      <th>5</th>\n",
              "      <td>22</td>\n",
              "      <td>21</td>\n",
              "      <td>27</td>\n",
              "      <td>13</td>\n",
              "    </tr>\n",
              "    <tr>\n",
              "      <th>6</th>\n",
              "      <td>24</td>\n",
              "      <td>14</td>\n",
              "      <td>20</td>\n",
              "      <td>13</td>\n",
              "    </tr>\n",
              "    <tr>\n",
              "      <th>7</th>\n",
              "      <td>18</td>\n",
              "      <td>15</td>\n",
              "      <td>13</td>\n",
              "      <td>8</td>\n",
              "    </tr>\n",
              "    <tr>\n",
              "      <th>8</th>\n",
              "      <td>16</td>\n",
              "      <td>17</td>\n",
              "      <td>14</td>\n",
              "      <td>7</td>\n",
              "    </tr>\n",
              "    <tr>\n",
              "      <th>9</th>\n",
              "      <td>19</td>\n",
              "      <td>11</td>\n",
              "      <td>15</td>\n",
              "      <td>10</td>\n",
              "    </tr>\n",
              "    <tr>\n",
              "      <th>10</th>\n",
              "      <td>11</td>\n",
              "      <td>18</td>\n",
              "      <td>14</td>\n",
              "      <td>8</td>\n",
              "    </tr>\n",
              "    <tr>\n",
              "      <th>11</th>\n",
              "      <td>16</td>\n",
              "      <td>11</td>\n",
              "      <td>15</td>\n",
              "      <td>10</td>\n",
              "    </tr>\n",
              "    <tr>\n",
              "      <th>13</th>\n",
              "      <td>14</td>\n",
              "      <td>11</td>\n",
              "      <td>14</td>\n",
              "      <td>6</td>\n",
              "    </tr>\n",
              "    <tr>\n",
              "      <th>14</th>\n",
              "      <td>13</td>\n",
              "      <td>12</td>\n",
              "      <td>13</td>\n",
              "      <td>8</td>\n",
              "    </tr>\n",
              "    <tr>\n",
              "      <th>19</th>\n",
              "      <td>13</td>\n",
              "      <td>10</td>\n",
              "      <td>13</td>\n",
              "      <td>6</td>\n",
              "    </tr>\n",
              "    <tr>\n",
              "      <th>20</th>\n",
              "      <td>11</td>\n",
              "      <td>10</td>\n",
              "      <td>14</td>\n",
              "      <td>9</td>\n",
              "    </tr>\n",
              "    <tr>\n",
              "      <th>22</th>\n",
              "      <td>12</td>\n",
              "      <td>7</td>\n",
              "      <td>8</td>\n",
              "      <td>6</td>\n",
              "    </tr>\n",
              "    <tr>\n",
              "      <th>24</th>\n",
              "      <td>9</td>\n",
              "      <td>8</td>\n",
              "      <td>9</td>\n",
              "      <td>6</td>\n",
              "    </tr>\n",
              "    <tr>\n",
              "      <th>27</th>\n",
              "      <td>7</td>\n",
              "      <td>9</td>\n",
              "      <td>8</td>\n",
              "      <td>6</td>\n",
              "    </tr>\n",
              "    <tr>\n",
              "      <th>34</th>\n",
              "      <td>12</td>\n",
              "      <td>2</td>\n",
              "      <td>10</td>\n",
              "      <td>9</td>\n",
              "    </tr>\n",
              "    <tr>\n",
              "      <th>36</th>\n",
              "      <td>11</td>\n",
              "      <td>2</td>\n",
              "      <td>8</td>\n",
              "      <td>8</td>\n",
              "    </tr>\n",
              "  </tbody>\n",
              "</table>\n",
              "</div>\n",
              "    <div class=\"colab-df-buttons\">\n",
              "\n",
              "  <div class=\"colab-df-container\">\n",
              "    <button class=\"colab-df-convert\" onclick=\"convertToInteractive('df-d5ce9041-d1c2-4b65-9bc9-34d9c3245a9c')\"\n",
              "            title=\"Convert this dataframe to an interactive table.\"\n",
              "            style=\"display:none;\">\n",
              "\n",
              "  <svg xmlns=\"http://www.w3.org/2000/svg\" height=\"24px\" viewBox=\"0 -960 960 960\">\n",
              "    <path d=\"M120-120v-720h720v720H120Zm60-500h600v-160H180v160Zm220 220h160v-160H400v160Zm0 220h160v-160H400v160ZM180-400h160v-160H180v160Zm440 0h160v-160H620v160ZM180-180h160v-160H180v160Zm440 0h160v-160H620v160Z\"/>\n",
              "  </svg>\n",
              "    </button>\n",
              "\n",
              "  <style>\n",
              "    .colab-df-container {\n",
              "      display:flex;\n",
              "      gap: 12px;\n",
              "    }\n",
              "\n",
              "    .colab-df-convert {\n",
              "      background-color: #E8F0FE;\n",
              "      border: none;\n",
              "      border-radius: 50%;\n",
              "      cursor: pointer;\n",
              "      display: none;\n",
              "      fill: #1967D2;\n",
              "      height: 32px;\n",
              "      padding: 0 0 0 0;\n",
              "      width: 32px;\n",
              "    }\n",
              "\n",
              "    .colab-df-convert:hover {\n",
              "      background-color: #E2EBFA;\n",
              "      box-shadow: 0px 1px 2px rgba(60, 64, 67, 0.3), 0px 1px 3px 1px rgba(60, 64, 67, 0.15);\n",
              "      fill: #174EA6;\n",
              "    }\n",
              "\n",
              "    .colab-df-buttons div {\n",
              "      margin-bottom: 4px;\n",
              "    }\n",
              "\n",
              "    [theme=dark] .colab-df-convert {\n",
              "      background-color: #3B4455;\n",
              "      fill: #D2E3FC;\n",
              "    }\n",
              "\n",
              "    [theme=dark] .colab-df-convert:hover {\n",
              "      background-color: #434B5C;\n",
              "      box-shadow: 0px 1px 3px 1px rgba(0, 0, 0, 0.15);\n",
              "      filter: drop-shadow(0px 1px 2px rgba(0, 0, 0, 0.3));\n",
              "      fill: #FFFFFF;\n",
              "    }\n",
              "  </style>\n",
              "\n",
              "    <script>\n",
              "      const buttonEl =\n",
              "        document.querySelector('#df-d5ce9041-d1c2-4b65-9bc9-34d9c3245a9c button.colab-df-convert');\n",
              "      buttonEl.style.display =\n",
              "        google.colab.kernel.accessAllowed ? 'block' : 'none';\n",
              "\n",
              "      async function convertToInteractive(key) {\n",
              "        const element = document.querySelector('#df-d5ce9041-d1c2-4b65-9bc9-34d9c3245a9c');\n",
              "        const dataTable =\n",
              "          await google.colab.kernel.invokeFunction('convertToInteractive',\n",
              "                                                    [key], {});\n",
              "        if (!dataTable) return;\n",
              "\n",
              "        const docLinkHtml = 'Like what you see? Visit the ' +\n",
              "          '<a target=\"_blank\" href=https://colab.research.google.com/notebooks/data_table.ipynb>data table notebook</a>'\n",
              "          + ' to learn more about interactive tables.';\n",
              "        element.innerHTML = '';\n",
              "        dataTable['output_type'] = 'display_data';\n",
              "        await google.colab.output.renderOutput(dataTable, element);\n",
              "        const docLink = document.createElement('div');\n",
              "        docLink.innerHTML = docLinkHtml;\n",
              "        element.appendChild(docLink);\n",
              "      }\n",
              "    </script>\n",
              "  </div>\n",
              "\n",
              "\n",
              "<div id=\"df-5918ddf3-ba05-4a33-bb4b-75549282a446\">\n",
              "  <button class=\"colab-df-quickchart\" onclick=\"quickchart('df-5918ddf3-ba05-4a33-bb4b-75549282a446')\"\n",
              "            title=\"Suggest charts\"\n",
              "            style=\"display:none;\">\n",
              "\n",
              "<svg xmlns=\"http://www.w3.org/2000/svg\" height=\"24px\"viewBox=\"0 0 24 24\"\n",
              "     width=\"24px\">\n",
              "    <g>\n",
              "        <path d=\"M19 3H5c-1.1 0-2 .9-2 2v14c0 1.1.9 2 2 2h14c1.1 0 2-.9 2-2V5c0-1.1-.9-2-2-2zM9 17H7v-7h2v7zm4 0h-2V7h2v10zm4 0h-2v-4h2v4z\"/>\n",
              "    </g>\n",
              "</svg>\n",
              "  </button>\n",
              "\n",
              "<style>\n",
              "  .colab-df-quickchart {\n",
              "      --bg-color: #E8F0FE;\n",
              "      --fill-color: #1967D2;\n",
              "      --hover-bg-color: #E2EBFA;\n",
              "      --hover-fill-color: #174EA6;\n",
              "      --disabled-fill-color: #AAA;\n",
              "      --disabled-bg-color: #DDD;\n",
              "  }\n",
              "\n",
              "  [theme=dark] .colab-df-quickchart {\n",
              "      --bg-color: #3B4455;\n",
              "      --fill-color: #D2E3FC;\n",
              "      --hover-bg-color: #434B5C;\n",
              "      --hover-fill-color: #FFFFFF;\n",
              "      --disabled-bg-color: #3B4455;\n",
              "      --disabled-fill-color: #666;\n",
              "  }\n",
              "\n",
              "  .colab-df-quickchart {\n",
              "    background-color: var(--bg-color);\n",
              "    border: none;\n",
              "    border-radius: 50%;\n",
              "    cursor: pointer;\n",
              "    display: none;\n",
              "    fill: var(--fill-color);\n",
              "    height: 32px;\n",
              "    padding: 0;\n",
              "    width: 32px;\n",
              "  }\n",
              "\n",
              "  .colab-df-quickchart:hover {\n",
              "    background-color: var(--hover-bg-color);\n",
              "    box-shadow: 0 1px 2px rgba(60, 64, 67, 0.3), 0 1px 3px 1px rgba(60, 64, 67, 0.15);\n",
              "    fill: var(--button-hover-fill-color);\n",
              "  }\n",
              "\n",
              "  .colab-df-quickchart-complete:disabled,\n",
              "  .colab-df-quickchart-complete:disabled:hover {\n",
              "    background-color: var(--disabled-bg-color);\n",
              "    fill: var(--disabled-fill-color);\n",
              "    box-shadow: none;\n",
              "  }\n",
              "\n",
              "  .colab-df-spinner {\n",
              "    border: 2px solid var(--fill-color);\n",
              "    border-color: transparent;\n",
              "    border-bottom-color: var(--fill-color);\n",
              "    animation:\n",
              "      spin 1s steps(1) infinite;\n",
              "  }\n",
              "\n",
              "  @keyframes spin {\n",
              "    0% {\n",
              "      border-color: transparent;\n",
              "      border-bottom-color: var(--fill-color);\n",
              "      border-left-color: var(--fill-color);\n",
              "    }\n",
              "    20% {\n",
              "      border-color: transparent;\n",
              "      border-left-color: var(--fill-color);\n",
              "      border-top-color: var(--fill-color);\n",
              "    }\n",
              "    30% {\n",
              "      border-color: transparent;\n",
              "      border-left-color: var(--fill-color);\n",
              "      border-top-color: var(--fill-color);\n",
              "      border-right-color: var(--fill-color);\n",
              "    }\n",
              "    40% {\n",
              "      border-color: transparent;\n",
              "      border-right-color: var(--fill-color);\n",
              "      border-top-color: var(--fill-color);\n",
              "    }\n",
              "    60% {\n",
              "      border-color: transparent;\n",
              "      border-right-color: var(--fill-color);\n",
              "    }\n",
              "    80% {\n",
              "      border-color: transparent;\n",
              "      border-right-color: var(--fill-color);\n",
              "      border-bottom-color: var(--fill-color);\n",
              "    }\n",
              "    90% {\n",
              "      border-color: transparent;\n",
              "      border-bottom-color: var(--fill-color);\n",
              "    }\n",
              "  }\n",
              "</style>\n",
              "\n",
              "  <script>\n",
              "    async function quickchart(key) {\n",
              "      const quickchartButtonEl =\n",
              "        document.querySelector('#' + key + ' button');\n",
              "      quickchartButtonEl.disabled = true;  // To prevent multiple clicks.\n",
              "      quickchartButtonEl.classList.add('colab-df-spinner');\n",
              "      try {\n",
              "        const charts = await google.colab.kernel.invokeFunction(\n",
              "            'suggestCharts', [key], {});\n",
              "      } catch (error) {\n",
              "        console.error('Error during call to suggestCharts:', error);\n",
              "      }\n",
              "      quickchartButtonEl.classList.remove('colab-df-spinner');\n",
              "      quickchartButtonEl.classList.add('colab-df-quickchart-complete');\n",
              "    }\n",
              "    (() => {\n",
              "      let quickchartButtonEl =\n",
              "        document.querySelector('#df-5918ddf3-ba05-4a33-bb4b-75549282a446 button');\n",
              "      quickchartButtonEl.style.display =\n",
              "        google.colab.kernel.accessAllowed ? 'block' : 'none';\n",
              "    })();\n",
              "  </script>\n",
              "</div>\n",
              "    </div>\n",
              "  </div>\n"
            ]
          },
          "metadata": {},
          "execution_count": 43
        }
      ]
    },
    {
      "cell_type": "code",
      "source": [
        "# Standardize the features\n",
        "scaler = StandardScaler()\n",
        "X_scaled = scaler.fit_transform(X)"
      ],
      "metadata": {
        "id": "pcnFdyHRq95u"
      },
      "execution_count": 44,
      "outputs": []
    },
    {
      "cell_type": "code",
      "source": [
        "# Perform k-means clustering\n",
        "kmeans = KMeans(n_clusters=4)\n",
        "idx = kmeans.fit_predict(X_scaled)\n",
        "c = kmeans.cluster_centers_\n",
        "sumd = kmeans.inertia_\n",
        "\n",
        "# Display k-means results\n",
        "print(\"K-Means Clustering Results:\")\n",
        "print(\"Cluster Assignments:\", idx)\n",
        "print(\"Cluster Centers:\")\n",
        "print(c)\n",
        "print(\"Sum of Squared Distances to Closest Centroid (Inertia):\", sumd)"
      ],
      "metadata": {
        "colab": {
          "base_uri": "https://localhost:8080/"
        },
        "id": "Rxs1G4InrEOX",
        "outputId": "a865185a-e91b-47e6-cd49-0cdb757e136b"
      },
      "execution_count": 59,
      "outputs": [
        {
          "output_type": "stream",
          "name": "stdout",
          "text": [
            "K-Means Clustering Results:\n",
            "Cluster Assignments: [2 2 2 2 2 0 3 0 3 0 3 3 3 3 1 1 1 1 1]\n",
            "Cluster Centers:\n",
            "[[ 3.59442577e-01 -1.04451591e-01 -1.16144427e-01  1.73235573e-01]\n",
            " [-1.03127343e+00 -1.15941266e+00 -1.11498650e+00 -7.48377675e-01]\n",
            " [ 1.42731380e+00  1.22208362e+00  1.46341978e+00  1.38449870e+00]\n",
            " [-5.09754928e-01 -3.89551938e-18 -2.32288854e-01 -6.16718640e-01]]\n",
            "Sum of Squared Distances to Closest Centroid (Inertia): 12.283403007141949\n"
          ]
        },
        {
          "output_type": "stream",
          "name": "stderr",
          "text": [
            "/usr/local/lib/python3.10/dist-packages/sklearn/cluster/_kmeans.py:870: FutureWarning: The default value of `n_init` will change from 10 to 'auto' in 1.4. Set the value of `n_init` explicitly to suppress the warning\n",
            "  warnings.warn(\n"
          ]
        }
      ]
    },
    {
      "cell_type": "code",
      "source": [
        "# Perform PCA\n",
        "pca = PCA(n_components=2)\n",
        "score = pca.fit_transform(X_scaled)\n",
        "\n",
        "# Extract principal components\n",
        "pc1 = score[:, 0]\n",
        "pc2 = score[:, 1]"
      ],
      "metadata": {
        "id": "UBkrTPdGrHQ-"
      },
      "execution_count": 46,
      "outputs": []
    },
    {
      "cell_type": "code",
      "source": [
        "# Display PCA results\n",
        "print(\"Principal Components:\")\n",
        "print(\"PC1:\", pc1)\n",
        "print(\"PC2:\", pc2)\n",
        "\n",
        "# Display other PCA results\n",
        "print(\"\\nOther PCA Results:\")\n",
        "print(\"Coefficients:\")\n",
        "print(pca.components_)\n",
        "print(\"\\nExplained Variance:\")\n",
        "print(pca.explained_variance_)\n",
        "print(\"\\nExplained Variance Ratio:\")\n",
        "print(pca.explained_variance_ratio_)\n",
        "print(\"\\nSingular Values:\")\n",
        "print(pca.singular_values_)\n",
        "print(\"\\nMean:\")\n",
        "print(pca.mean_)"
      ],
      "metadata": {
        "colab": {
          "base_uri": "https://localhost:8080/"
        },
        "id": "wmzthyKnwCk6",
        "outputId": "8189f124-5231-4cf2-cc17-54f5aad7ee09"
      },
      "execution_count": 55,
      "outputs": [
        {
          "output_type": "stream",
          "name": "stdout",
          "text": [
            "Principal Components:\n",
            "PC1: [ 3.00612952  3.68702241  1.88019293  3.08338452  2.11034725  0.00521621\n",
            " -0.13729378  0.37501505 -0.34542209  0.09033164 -0.96218907 -0.69051352\n",
            " -1.22320157 -0.74285027 -2.00118124 -2.11974662 -2.32814865 -1.60743779\n",
            " -2.07965494]\n",
            "PC2: [-0.49250339  0.08146347 -0.3876261   0.13383163  1.09737599 -0.37075496\n",
            " -0.92639853  0.61159675 -0.95609961  0.51862179 -0.51461741 -0.16630027\n",
            " -0.41681463  0.24739646 -0.04344274 -0.26521214 -0.43800965  1.27278314\n",
            "  1.01471021]\n",
            "\n",
            "Other PCA Results:\n",
            "Coefficients:\n",
            "[[ 0.50948242  0.47072822  0.53017646  0.48760182]\n",
            " [ 0.16639224 -0.76465611 -0.05160308  0.62044483]]\n",
            "\n",
            "Explained Variance:\n",
            "[3.59398354 0.42308506]\n",
            "\n",
            "Explained Variance Ratio:\n",
            "[0.85120663 0.10020436]\n",
            "\n",
            "Singular Values:\n",
            "[8.0431153  2.75962519]\n",
            "\n",
            "Mean:\n",
            "[ 6.42760698e-17 -2.33731163e-17  0.00000000e+00 -2.13279686e-16]\n"
          ]
        }
      ]
    },
    {
      "cell_type": "code",
      "source": [
        "# Plotting the results with color legend\n",
        "plt.figure()\n",
        "scatter = plt.scatter(pc1, pc2, c=idx, cmap='viridis')\n",
        "plt.title('K-Means Clustering with PCA')\n",
        "plt.xlabel('Principal Component 1')\n",
        "plt.ylabel('Principal Component 2')\n",
        "\n",
        "# Adding color legend\n",
        "legend_labels = [f'Cluster {i+1}' for i in range(max(idx)+1)]\n",
        "plt.legend(handles=scatter.legend_elements()[0], title='Clusters', labels=legend_labels)\n",
        "\n",
        "plt.show()"
      ],
      "metadata": {
        "colab": {
          "base_uri": "https://localhost:8080/",
          "height": 472
        },
        "id": "wt2voLiTrKgd",
        "outputId": "5d50d256-fac8-4433-eefa-5b326956f9fd"
      },
      "execution_count": 56,
      "outputs": [
        {
          "output_type": "display_data",
          "data": {
            "text/plain": [
              "<Figure size 640x480 with 1 Axes>"
            ],
            "image/png": "[encoded data removed]"
          },
          "metadata": {}
        }
      ]
    }
  ]
}