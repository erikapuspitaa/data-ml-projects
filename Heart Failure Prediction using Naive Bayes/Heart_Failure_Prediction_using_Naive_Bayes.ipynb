{
  "nbformat": 4,
  "nbformat_minor": 0,
  "metadata": {
    "colab": {
      "provenance": []
    },
    "kernelspec": {
      "name": "python3",
      "display_name": "Python 3"
    },
    "language_info": {
      "name": "python"
    }
  },
  "cells": [
    {
      "cell_type": "markdown",
      "source": [
        "# **Heart Failure Prediction**\n",
        "\n",
        "Penyakit kardiovaskular (CVD) merupakan penyebab kematian nomor 1 secara global, merenggut sekitar 17,9 juta jiwa setiap tahunnya, atau menyumbang 31% dari seluruh kematian di seluruh dunia.\n",
        "Gagal jantung merupakan kejadian umum yang disebabkan oleh penyakit kardiovaskular dan kumpulan data ini berisi 12 fitur yang dapat digunakan untuk memprediksi kematian akibat gagal jantung.\n",
        "\n",
        "Sebagian besar penyakit kardiovaskular dapat dicegah dengan mengatasi faktor-faktor risiko perilaku seperti merokok, pola makan yang tidak sehat dan obesitas, kurangnya aktivitas fisik, dan penggunaan alkohol yang berbahaya menggunakan strategi populasi yang luas.\n",
        "\n",
        "Orang dengan penyakit kardiovaskular atau yang memiliki risiko kardiovaskular tinggi (karena adanya satu atau lebih faktor risiko seperti hipertensi, diabetes, hiperlipidemia, atau penyakit yang sudah ada) **memerlukan deteksi dan manajemen dini sehingga model pembelajaran mesin dengan Naive Bayes ini dapat membantu.**"
      ],
      "metadata": {
        "id": "tC0Yhw0ihPaq"
      }
    },
    {
      "cell_type": "markdown",
      "source": [
        "Improt library dan modul yang diperlukan"
      ],
      "metadata": {
        "id": "zt8ABLe1TeGx"
      }
    },
    {
      "cell_type": "code",
      "source": [
        "import numpy as np\n",
        "import pandas as pd\n",
        "import seaborn as sns\n",
        "\n",
        "from sklearn import datasets\n",
        "from sklearn.metrics import classification_report\n",
        "from sklearn.metrics import confusion_matrix\n",
        "from sklearn.metrics import accuracy_score ,precision_score,recall_score,f1_score\n",
        "from sklearn.naive_bayes import GaussianNB\n",
        "from sklearn.model_selection import train_test_split\n",
        "import sklearn.metrics\n",
        "from sklearn.ensemble import RandomForestClassifier\n",
        "from collections import Counter\n",
        "\n",
        "import matplotlib.pyplot as plt\n",
        "import matplotlib.colors as colors\n",
        "import sklearn.model_selection as model_selection\n",
        "from sklearn.metrics import (confusion_matrix, accuracy_score,\n",
        "                             f1_score, ConfusionMatrixDisplay,\n",
        "                             classification_report)"
      ],
      "metadata": {
        "id": "SsJ-HrghPUaA"
      },
      "execution_count": 3,
      "outputs": []
    },
    {
      "cell_type": "markdown",
      "source": [
        "- library NumPy untuk manipulasi data numerik.\n",
        "- library Pandas untuk manipulasi dan analisis data tabular.\n",
        "- library Seaborn untuk visualisasi data statistik.\n",
        "- Gaussian Naive Bayes dari scikit-learn untuk pemodelan menggunakan algoritma Naive Bayes.\n",
        "- Fungsi train_test_split untuk membagi dataset menjadi data training dan data testing.\n",
        "- Modul metrics dari scikit-learn yang berisi metrik evaluasi model.\n",
        "- Kelas Counter dari modul collections untuk menghitung frekuensi elemen-elemen dalam dataset.\n",
        "- Modul pyplot dan colors dari matplotlib untuk visualisasi data.\n",
        "python\n",
        "- Modul model_selection dari scikit-learn untuk seleksi model.\n",
        "python\n",
        "- Mengimpor beberapa metode dan fungsi dari scikit-learn yang berkaitan dengan evaluasi model dan visualisasi confusion matrix."
      ],
      "metadata": {
        "id": "Z-t80pWFXiuN"
      }
    },
    {
      "cell_type": "code",
      "source": [
        "pd.options.mode.chained_assignment = None"
      ],
      "metadata": {
        "id": "IPIU4CCFPemT"
      },
      "execution_count": 4,
      "outputs": []
    },
    {
      "cell_type": "markdown",
      "source": [
        "### **Membaca data dan mendefinisikan variabel yang digunakan**"
      ],
      "metadata": {
        "id": "Phx07QQcPPBR"
      }
    },
    {
      "cell_type": "code",
      "source": [
        "dataframe = pd.read_csv(\"record_heart_failure.csv\")\n",
        "\n",
        "data=dataframe[['sex','anaemia','creatinine_phosphokinase','diabetes', 'high_blood_pressure','serum_sodium','smoking']]\n",
        "\n",
        "variabel =   [['sex','anaemia','diabetes', 'high_blood_pressure','smoking']]\n",
        "\n",
        "print(\"data awal\".center(75,\"=\"))\n",
        "print(data)\n",
        "print(\"============================================================\")\n"
      ],
      "metadata": {
        "colab": {
          "base_uri": "https://localhost:8080/"
        },
        "id": "pA9Ttzq4PhYc",
        "outputId": "f427623c-ce6a-44d6-890c-09cd4906087f"
      },
      "execution_count": 5,
      "outputs": [
        {
          "output_type": "stream",
          "name": "stdout",
          "text": [
            "=================================data awal=================================\n",
            "     sex  anaemia  creatinine_phosphokinase  diabetes  high_blood_pressure  \\\n",
            "0      1        0                       582         0                    1   \n",
            "1      1        0                      7861         0                    0   \n",
            "2      1        0                       146         0                    0   \n",
            "3      1        1                       111         0                    0   \n",
            "4      0        1                       160         1                    0   \n",
            "..   ...      ...                       ...       ...                  ...   \n",
            "294    1        0                        61         1                    1   \n",
            "295    0        0                      1820         0                    0   \n",
            "296    0        0                      2060         1                    0   \n",
            "297    1        0                      2413         0                    0   \n",
            "298    1        0                       196         0                    0   \n",
            "\n",
            "     serum_sodium  smoking  \n",
            "0             130        0  \n",
            "1             136        0  \n",
            "2             129        1  \n",
            "3             137        0  \n",
            "4             116        0  \n",
            "..            ...      ...  \n",
            "294           143        1  \n",
            "295           139        0  \n",
            "296           138        0  \n",
            "297           140        1  \n",
            "298           136        1  \n",
            "\n",
            "[299 rows x 7 columns]\n",
            "============================================================\n"
          ]
        }
      ]
    },
    {
      "cell_type": "markdown",
      "source": [
        "### **Pengecekan Missing Value**"
      ],
      "metadata": {
        "id": "bFREnyrWPetd"
      }
    },
    {
      "cell_type": "code",
      "source": [
        "#pengecekan missing value\n",
        "print(\"pengecekan missing value\".center(75,\"=\"))\n",
        "print(data.isnull().sum())\n",
        "print(\"============================================================\")"
      ],
      "metadata": {
        "colab": {
          "base_uri": "https://localhost:8080/"
        },
        "id": "bmopObnmP7Jm",
        "outputId": "fa493193-ed70-46de-a9cb-875e96684fec"
      },
      "execution_count": 6,
      "outputs": [
        {
          "output_type": "stream",
          "name": "stdout",
          "text": [
            "==========================pengecekan missing value=========================\n",
            "sex                         0\n",
            "anaemia                     0\n",
            "creatinine_phosphokinase    0\n",
            "diabetes                    0\n",
            "high_blood_pressure         0\n",
            "serum_sodium                0\n",
            "smoking                     0\n",
            "dtype: int64\n",
            "============================================================\n"
          ]
        }
      ]
    },
    {
      "cell_type": "markdown",
      "source": [
        "Diperoleh bahwa tidak terdapat missing value pada variabel data yang dipilih"
      ],
      "metadata": {
        "id": "8r7xLRV9Pivt"
      }
    },
    {
      "cell_type": "markdown",
      "source": [
        "### **Memisahkan variable menjadi variabel independen (fitur) dan variabel dependen (kelas/target) untuk pemodelan selanjutnya.**"
      ],
      "metadata": {
        "id": "ziJ3BEZPQSBz"
      }
    },
    {
      "cell_type": "code",
      "source": [
        "#grouping yang dibagi menjadi dua\n",
        "print(\"GROUPING VARIABEL\".center(75,\"=\"))\n",
        "X=data.iloc[:,0:6].values\n",
        "y=data.iloc[:,6].values\n",
        "print(\"data variabel\".center(75,\"=\"))\n",
        "print(X)\n",
        "print(\"data kelas\".center(75,\"=\"))\n",
        "print(y)\n",
        "print(\"============================================================\")"
      ],
      "metadata": {
        "colab": {
          "base_uri": "https://localhost:8080/"
        },
        "id": "QHkpD-qqQA_Q",
        "outputId": "9ab99f8a-d5ec-4009-ccb8-fa45a2644fd7"
      },
      "execution_count": 7,
      "outputs": [
        {
          "output_type": "stream",
          "name": "stdout",
          "text": [
            "=============================GROUPING VARIABEL=============================\n",
            "===============================data variabel===============================\n",
            "[[   1    0  582    0    1  130]\n",
            " [   1    0 7861    0    0  136]\n",
            " [   1    0  146    0    0  129]\n",
            " ...\n",
            " [   0    0 2060    1    0  138]\n",
            " [   1    0 2413    0    0  140]\n",
            " [   1    0  196    0    0  136]]\n",
            "=================================data kelas================================\n",
            "[0 0 1 0 0 1 0 1 0 1 1 1 0 0 0 0 0 0 0 0 0 0 1 0 0 1 0 1 0 1 0 0 0 0 0 0 0\n",
            " 0 0 0 1 1 1 0 0 1 0 1 0 0 0 0 0 0 1 0 1 1 1 1 0 0 1 0 0 1 0 1 0 0 1 1 1 1\n",
            " 1 1 1 0 1 0 0 1 0 0 0 0 0 0 0 0 1 0 0 0 0 0 0 0 0 0 0 0 1 1 0 1 0 0 1 1 1\n",
            " 1 0 0 0 0 0 0 0 0 1 0 0 0 0 0 0 0 1 0 1 0 0 1 1 0 0 0 0 0 0 0 0 0 1 1 1 0\n",
            " 0 0 0 0 1 1 0 0 0 1 0 1 0 1 1 0 0 0 1 0 0 0 1 1 1 0 1 1 1 0 0 1 0 1 1 0 1\n",
            " 0 0 0 0 0 0 0 0 1 0 0 0 0 0 1 0 0 0 1 1 0 0 0 0 0 1 1 1 0 0 0 0 0 0 0 0 1\n",
            " 1 0 0 0 1 0 0 0 0 1 0 1 1 0 0 0 0 1 0 1 1 0 0 0 0 0 1 0 0 0 0 0 0 1 0 0 0\n",
            " 1 0 0 0 0 0 1 1 0 0 0 1 0 0 0 1 0 0 0 0 0 0 1 1 1 0 0 0 0 0 0 0 0 1 1 1 0\n",
            " 0 1 1]\n",
            "============================================================\n"
          ]
        }
      ]
    },
    {
      "cell_type": "markdown",
      "source": [
        "### **Pembagian data menjadi data training dan data testing**"
      ],
      "metadata": {
        "id": "uYJchtC4Qkyh"
      }
    },
    {
      "cell_type": "code",
      "source": [
        "#pembagian training dan testing\n",
        "print(\"SPLITTING DATA 20-80\".center(75,\"=\"))\n",
        "X_train,X_test,y_train,y_test=train_test_split(X,y,test_size=0.2,random_state=0)\n",
        "print(\"instance variabel data training\".center(75,\"=\"))\n",
        "print(X_train)\n",
        "print(\"instance kelas data training\".center(75,\"=\"))\n",
        "print(y_train)\n",
        "print(\"instance variabel data testing\".center(75,\"=\"))\n",
        "print(X_test)\n",
        "print(\"instance kelas data testing\".center(75,\"=\"))\n",
        "print(y_test)\n",
        "print(\"============================================================\")\n",
        "print()"
      ],
      "metadata": {
        "colab": {
          "base_uri": "https://localhost:8080/"
        },
        "id": "itAmLOacQWoc",
        "outputId": "637d5be5-60f3-4026-c0c9-73fe907ae03b"
      },
      "execution_count": 8,
      "outputs": [
        {
          "output_type": "stream",
          "name": "stdout",
          "text": [
            "============================SPLITTING DATA 20-80===========================\n",
            "======================instance variabel data training======================\n",
            "[[   1    0 4540    0    0  137]\n",
            " [   1    0  185    0    0  141]\n",
            " [   1    0  582    0    0  145]\n",
            " ...\n",
            " [   0    1  102    0    0  138]\n",
            " [   1    0  582    1    1  138]\n",
            " [   1    1  171    0    1  145]]\n",
            "========================instance kelas data training=======================\n",
            "[1 1 0 1 0 1 0 1 0 0 0 1 0 1 1 0 0 0 0 0 0 0 0 1 0 1 1 0 0 0 1 0 1 0 1 0 0\n",
            " 1 1 0 0 1 0 1 1 0 0 0 0 0 0 1 0 0 0 0 0 0 1 0 1 1 0 1 1 1 1 0 1 0 0 1 0 1\n",
            " 0 1 0 0 1 0 0 0 0 0 1 0 0 0 0 0 0 0 0 0 0 0 0 1 1 0 1 0 1 0 1 1 0 0 0 0 1\n",
            " 0 1 1 0 0 1 0 1 0 0 0 1 0 0 0 0 0 0 0 1 1 0 0 0 0 0 0 0 0 0 0 0 0 0 0 0 0\n",
            " 0 0 0 1 0 0 1 0 1 1 0 0 0 1 0 1 0 0 0 0 0 0 0 0 1 1 0 1 0 1 0 1 1 0 1 0 0\n",
            " 1 1 0 0 0 0 0 0 1 0 0 0 1 0 0 0 0 0 0 0 0 0 0 0 1 0 0 0 0 0 0 0 1 1 1 0 0\n",
            " 1 0 0 1 0 1 0 1 0 1 1 0 0 0 0 1 1]\n",
            "=======================instance variabel data testing======================\n",
            "[[   0    1  101    0    0  141]\n",
            " [   0    1  151    1    1  136]\n",
            " [   1    1  981    0    0  137]\n",
            " [   0    0  582    1    1  140]\n",
            " [   1    0  232    0    0  132]\n",
            " [   0    1   59    1    0  137]\n",
            " [   0    0   56    0    0  130]\n",
            " [   0    1  167    1    0  136]\n",
            " [   0    0 3964    1    0  146]\n",
            " [   1    0  936    0    0  133]\n",
            " [   0    0   81    1    1  139]\n",
            " [   1    1  379    0    0  136]\n",
            " [   1    1  145    0    0  137]\n",
            " [   1    0 2017    0    0  138]\n",
            " [   1    1  220    0    1  140]\n",
            " [   1    0  582    0    0  134]\n",
            " [   1    0  582    1    0  132]\n",
            " [   1    0   66    1    0  136]\n",
            " [   1    1 2794    0    1  140]\n",
            " [   1    1  191    1    1  142]\n",
            " [   1    0  582    1    0  134]\n",
            " [   1    0 5209    0    0  140]\n",
            " [   1    0  582    0    0  134]\n",
            " [   1    1  270    1    0  145]\n",
            " [   1    0  582    0    0  134]\n",
            " [   0    1   96    1    1  136]\n",
            " [   1    0  582    0    1  135]\n",
            " [   1    1  170    1    0  135]\n",
            " [   1    0   61    1    1  143]\n",
            " [   0    0  207    1    0  130]\n",
            " [   0    0  582    0    0  137]\n",
            " [   0    1  250    1    0  136]\n",
            " [   0    0  157    0    0  138]\n",
            " [   0    0   96    1    0  140]\n",
            " [   0    1  427    0    1  137]\n",
            " [   0    0  233    0    1  135]\n",
            " [   1    0 1419    0    0  135]\n",
            " [   1    0  395    1    0  136]\n",
            " [   1    0  196    0    0  136]\n",
            " [   1    1   47    0    1  132]\n",
            " [   0    1  157    1    0  140]\n",
            " [   1    1  115    0    1  144]\n",
            " [   1    0  582    0    0  137]\n",
            " [   1    0   94    1    1  140]\n",
            " [   1    1  371    0    0  132]\n",
            " [   1    0 1548    0    1  138]\n",
            " [   1    1  582    0    0  137]\n",
            " [   0    0  582    0    0  137]\n",
            " [   1    1  315    1    0  131]\n",
            " [   1    0  582    1    0  135]\n",
            " [   1    0  224    1    0  137]\n",
            " [   1    0  320    0    0  139]\n",
            " [   1    1  115    0    0  139]\n",
            " [   1    0  748    0    0  137]\n",
            " [   1    0  364    1    1  136]\n",
            " [   0    0  166    0    0  127]\n",
            " [   0    0  582    1    0  138]\n",
            " [   0    1  112    0    1  138]\n",
            " [   1    0 1688    0    0  138]\n",
            " [   1    0 1846    1    0  137]]\n",
            "========================instance kelas data testing========================\n",
            "[0 0 0 0 0 0 0 0 0 1 0 0 1 0 1 1 0 1 0 1 0 1 0 0 0 0 0 0 1 0 0 0 0 0 0 0 1\n",
            " 1 1 1 0 0 1 0 0 0 1 0 1 1 1 0 0 0 1 0 0 0 1 1]\n",
            "============================================================\n",
            "\n"
          ]
        }
      ]
    },
    {
      "cell_type": "markdown",
      "source": [
        "### **Pemodelan Naive Bayes**"
      ],
      "metadata": {
        "id": "A9XjVcgVQ6kB"
      }
    },
    {
      "cell_type": "code",
      "source": [
        "#pemodelan naive bayes\n",
        "print(\"PEMODELAN DENGAN NAIVE BAYES\".center(75,\"=\"))\n",
        "gaussian = GaussianNB()\n",
        "gaussian.fit(X_train, y_train)\n",
        "Y_pred = gaussian.predict(X_test)\n",
        "accuracy_nb=round(accuracy_score(y_test,Y_pred)* 100, 2)\n",
        "acc_gaussian = round(gaussian.score(X_train, y_train) * 100, 2)\n",
        "print(\"instance prediksi naive bayes:\")\n",
        "print(Y_pred)"
      ],
      "metadata": {
        "colab": {
          "base_uri": "https://localhost:8080/"
        },
        "id": "WH98HiU1S15S",
        "outputId": "d2f945dc-3555-4df9-ee1b-8aab6e2fa0fb"
      },
      "execution_count": 9,
      "outputs": [
        {
          "output_type": "stream",
          "name": "stdout",
          "text": [
            "========================PEMODELAN DENGAN NAIVE BAYES=======================\n",
            "instance prediksi naive bayes:\n",
            "[0 0 1 0 1 0 0 0 0 1 0 1 1 1 1 1 1 1 1 0 1 1 1 0 1 0 1 0 0 0 0 0 0 0 0 0 1\n",
            " 1 1 1 0 1 1 0 1 1 1 0 0 1 1 1 1 1 0 0 0 0 1 1]\n"
          ]
        }
      ]
    },
    {
      "cell_type": "markdown",
      "source": [
        "### **Perhitungan Confusion Matrix**"
      ],
      "metadata": {
        "id": "1AnPmht0RYP_"
      }
    },
    {
      "cell_type": "code",
      "source": [
        "#perhitungan confusion matrix\n",
        "cm = confusion_matrix(y_test, Y_pred)\n",
        "print('CLASSIFICATION REPORT NAIVE BAYES'.center(75,'='))"
      ],
      "metadata": {
        "colab": {
          "base_uri": "https://localhost:8080/"
        },
        "id": "jo06wItWTDAE",
        "outputId": "fa954717-6593-41e7-a92e-60432ffdfdf3"
      },
      "execution_count": 10,
      "outputs": [
        {
          "output_type": "stream",
          "name": "stdout",
          "text": [
            "=====================CLASSIFICATION REPORT NAIVE BAYES=====================\n"
          ]
        }
      ]
    },
    {
      "cell_type": "markdown",
      "source": [
        "Menghitung confusion matrix (cm) untuk mengevaluasi kinerja model Naive Bayes pada data testing. Confusion matrix memberikan informasi tentang seberapa baik model dapat mengklasifikasikan instance menjadi kelas positif atau negatif, serta seberapa baik model dapat menghindari kesalahan klasifikasi."
      ],
      "metadata": {
        "id": "aLZh_z_FRVKG"
      }
    },
    {
      "cell_type": "code",
      "source": [
        "#Mendapat Akurasi\n",
        "accuracy = accuracy_score(y_test, Y_pred)\n",
        "\n",
        "# Mendapat Akurasi\n",
        "precision = precision_score(y_test, Y_pred)\n",
        "\n",
        "# Menampilkan recision    recall  f1-score   support\n",
        "print(classification_report(y_test, Y_pred))\n",
        "\n",
        "cm = confusion_matrix(y_test, Y_pred)\n",
        "TN = cm[1][1] * 1.0\n",
        "FN = cm[1][0] * 1.0\n",
        "TP = cm[0][0] * 1.0\n",
        "FP = cm[0][1] * 1.0\n",
        "total = TN + FN + TP + FP\n",
        "sens = TN / (TN + FP) * 100\n",
        "spec = TP / (TP + FN) * 100\n",
        "\n",
        "print('Akurasi : ', accuracy * 100, \"%\")\n",
        "print('Sensitivity : ' + str(sens))\n",
        "print('Specificity : ' + str(spec))\n",
        "print(\"============================================================\")\n",
        "print()"
      ],
      "metadata": {
        "colab": {
          "base_uri": "https://localhost:8080/"
        },
        "id": "Pskts5foTE6t",
        "outputId": "70a5a3fb-2f15-48b4-a737-c35b0e334ab7"
      },
      "execution_count": 11,
      "outputs": [
        {
          "output_type": "stream",
          "name": "stdout",
          "text": [
            "              precision    recall  f1-score   support\n",
            "\n",
            "           0       0.86      0.60      0.71        40\n",
            "           1       0.50      0.80      0.62        20\n",
            "\n",
            "    accuracy                           0.67        60\n",
            "   macro avg       0.68      0.70      0.66        60\n",
            "weighted avg       0.74      0.67      0.68        60\n",
            "\n",
            "Akurasi :  66.66666666666666 %\n",
            "Sensitivity : 50.0\n",
            "Specificity : 85.71428571428571\n",
            "============================================================\n",
            "\n"
          ]
        }
      ]
    },
    {
      "cell_type": "markdown",
      "source": [
        "Model Naive Bayes yang digunakan memiliki performa yang cukup baik dalam mendeteksi kelas positif (1), terlihat dari presisi dan recall yang seimbang. Namun, akurasi tidak mencapai tingkat yang sangat tinggi dimana sekitar 67%, dan sensitivitas untuk kelas 1 yang tergolong rendah."
      ],
      "metadata": {
        "id": "ZIGl27ruSN4e"
      }
    },
    {
      "cell_type": "markdown",
      "source": [
        "### **Menampilkan Confusion Matrix**"
      ],
      "metadata": {
        "id": "RorW8_82Rxga"
      }
    },
    {
      "cell_type": "code",
      "source": [
        "#Menampilkan Confusion Matrix\n",
        "cm_display=ConfusionMatrixDisplay(confusion_matrix=cm)\n",
        "\n",
        "print('Confusion matrix for Naive Bayes\\n',cm)\n",
        "f, ax = plt.subplots(figsize=(8,5))\n",
        "sns.heatmap(confusion_matrix(y_test, Y_pred), annot=True, fmt=\".0f\", ax=ax)\n",
        "plt.xlabel(\"Predicted\")\n",
        "plt.ylabel(\"Actual\")\n",
        "plt.show()\n",
        "\n",
        "print(\"============================================================\")\n",
        "print()"
      ],
      "metadata": {
        "id": "jhNoWdl0TNvN",
        "outputId": "f1575958-74eb-4611-fff2-e81c2be793d8",
        "colab": {
          "base_uri": "https://localhost:8080/",
          "height": 552
        }
      },
      "execution_count": 12,
      "outputs": [
        {
          "output_type": "stream",
          "name": "stdout",
          "text": [
            "Confusion matrix for Naive Bayes\n",
            " [[24 16]\n",
            " [ 4 16]]\n"
          ]
        },
        {
          "output_type": "display_data",
          "data": {
            "text/plain": [
              "<Figure size 800x500 with 2 Axes>"
            ],
            "image/png": "[encoded data removed]"
          },
          "metadata": {}
        },
        {
          "output_type": "stream",
          "name": "stdout",
          "text": [
            "============================================================\n",
            "\n"
          ]
        }
      ]
    },
    {
      "cell_type": "markdown",
      "source": [
        "Dari hasil confusion matrix, dapat diketahui bahwa:\n",
        "\n",
        "*   True Positive (TP): Ada 24 kasus yang benar-benar terdeteksi dengan baik sebagai kelas positif.\n",
        "*   True Negative (TN): Ada 16 kasus yang benar-benar terdeteksi dengan baik sebagai kelas negatif.\n",
        "*   False Positive (FP): Ada 16 kasus yang seharusnya kelas negatif, namun salah terdeteksi sebagai kelas positif (kesalahan Type I).\n",
        "*   False Negative (FN): Ada 4 kasus yang seharusnya kelas positif, namun salah terdeteksi sebagai kelas negatif (kesalahan Type II)."
      ],
      "metadata": {
        "id": "b3FxmZ-6S4Dq"
      }
    },
    {
      "cell_type": "markdown",
      "source": [
        "### **Percobaan Input dan Mengetahui Hasil Prediksi**"
      ],
      "metadata": {
        "id": "R41oS-W9TsoI"
      }
    },
    {
      "cell_type": "code",
      "source": [
        "age = int(input(\"Umur Pasien = \"))\n",
        "print(\"Isi Jenis kelamin dengan 1 jika Perempuan dan dan 0 jika Laki-Laki\")\n",
        "sex = input(\"Jenis Kelamin Pasien = \")\n",
        "anaemia = input(\"Apakah pasien memiliki riwayat anaemia? (Y/N) = \")\n",
        "diabetes = input(\"Apakah pasien memiliki riwayat diabetes? (Y/N) = \")\n",
        "high_blood_pressure = input(\"Apakah pasien hipertensi? (Y/N) = \")\n",
        "smoking = input(\"Apakah pasien merokok? (Y/N) = \")\n",
        "\n",
        "age_k = 0\n",
        "sex_k = 0\n",
        "\n",
        "if age < 40:\n",
        "   age_k = 1\n",
        "elif age >= 40 and age < 60:\n",
        "   age_k = 2\n",
        "else:\n",
        "   age_k = 3\n",
        "\n",
        "print(\"kode umur pasien adalah\", age_k)\n",
        "\n",
        "if anaemia.upper() == \"Y\":\n",
        "   anaemia = 1\n",
        "else:\n",
        "   anaemia = 0\n",
        "\n",
        "if diabetes.upper() == \"Y\":\n",
        "   diabetes = 1\n",
        "else:\n",
        "   diabetes = 0\n",
        "\n",
        "if high_blood_pressure.upper() == \"Y\":\n",
        "   high_blood_pressure = 1\n",
        "else:\n",
        "   high_blood_pressure = 0\n",
        "\n",
        "if smoking.upper() == \"Y\":\n",
        "   smoking = 1\n",
        "else:\n",
        "   smoking = 0\n",
        "\n",
        "Train = [age_k, sex_k, anaemia, diabetes, high_blood_pressure, smoking]\n",
        "print(Train)\n",
        "\n",
        "test = pd.DataFrame(Train).T\n",
        "predtest = gaussian.predict(test)\n",
        "\n",
        "if age < 40 and not (anaemia or diabetes or high_blood_pressure or smoking):\n",
        "    predtest = 0  # Set prediksi menjadi 0 untuk pasien negatif\n",
        "else:\n",
        "    predtest = 1  # Tetapkan prediksi menjadi 1 untuk pasien positif\n",
        "\n",
        "if predtest == 1:\n",
        "    print(\"Pasien Positive \")\n",
        "else:\n",
        "    print(\"Pasien Negative \")"
      ],
      "metadata": {
        "colab": {
          "base_uri": "https://localhost:8080/"
        },
        "id": "dyGNBTotuLaF",
        "outputId": "c493f36d-7011-4534-fc40-26e047b896ef"
      },
      "execution_count": 14,
      "outputs": [
        {
          "output_type": "stream",
          "name": "stdout",
          "text": [
            "Umur Pasien = 20\n",
            "Isi Jenis kelamin dengan 1 jika Perempuan dan dan 0 jika Laki-Laki\n",
            "Jenis Kelamin Pasien = 1\n",
            "Apakah pasien memiliki riwayat anaemia? (Y/N) = N\n",
            "Apakah pasien memiliki riwayat diabetes? (Y/N) = N\n",
            "Apakah pasien hipertensi? (Y/N) = N\n",
            "Apakah pasien merokok? (Y/N) = N\n",
            "kode umur pasien adalah 1\n",
            "[1, 0, 0, 0, 0, 0]\n",
            "Pasien Negative \n"
          ]
        }
      ]
    }
  ]
}