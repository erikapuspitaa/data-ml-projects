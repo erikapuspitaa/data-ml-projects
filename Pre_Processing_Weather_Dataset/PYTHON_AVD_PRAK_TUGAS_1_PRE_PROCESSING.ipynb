{
  "nbformat": 4,
  "nbformat_minor": 0,
  "metadata": {
    "colab": {
      "provenance": []
    },
    "kernelspec": {
      "name": "python3",
      "display_name": "Python 3"
    },
    "language_info": {
      "name": "python"
    }
  },
  "cells": [
    {
      "cell_type": "markdown",
      "source": [
        "# **Nama : Erika Dwi Puspitasari**\n",
        "# **NIM : 082111633010**\n",
        "# **Kelas : AVD PRAK - I3**"
      ],
      "metadata": {
        "id": "0lSeOUkDBilQ"
      }
    },
    {
      "cell_type": "markdown",
      "source": [
        "# **------------------DATA PRE-PROCESSING-----------------------**"
      ],
      "metadata": {
        "id": "M4k-82d_CKZC"
      }
    },
    {
      "cell_type": "code",
      "execution_count": 3,
      "metadata": {
        "id": "9NoG8LKhnuAk"
      },
      "outputs": [],
      "source": [
        "import numpy as np\n",
        "import pandas as pd\n",
        "import matplotlib.pyplot as plt\n",
        "import seaborn as sns\n",
        "from scipy import stats"
      ]
    },
    {
      "cell_type": "code",
      "source": [
        "data_day = pd.read_csv(\"day.csv\")\n",
        "df = pd.DataFrame(data_day)\n",
        "\n",
        "#Inputkan 3 record dari data t\n",
        "three_record = df.head(3)\n",
        "print(three_record)"
      ],
      "metadata": {
        "colab": {
          "base_uri": "https://localhost:8080/"
        },
        "id": "y57RnYP3oG7X",
        "outputId": "aea062f6-db1b-4cef-88fa-620e47d8885d"
      },
      "execution_count": 4,
      "outputs": [
        {
          "output_type": "stream",
          "name": "stdout",
          "text": [
            "   instant      dteday  season  yr  mnth  holiday  weekday  workingday  \\\n",
            "0        1  2011-01-01       1   0     1        0        6           0   \n",
            "1        2  2011-01-02       1   0     1        0        0           0   \n",
            "2        3  2011-01-03       1   0     1        0        1           1   \n",
            "\n",
            "   weathersit      temp     atemp       hum  windspeed  casual  registered  \\\n",
            "0           2  0.344167  0.363625  0.805833   0.160446     331         654   \n",
            "1           2  0.363478  0.353739  0.696087   0.248539     131         670   \n",
            "2           1  0.196364  0.189405  0.437273   0.248309     120        1229   \n",
            "\n",
            "    cnt  \n",
            "0   985  \n",
            "1   801  \n",
            "2  1349  \n"
          ]
        }
      ]
    },
    {
      "cell_type": "markdown",
      "source": [
        "### **Mengambil variabel**"
      ],
      "metadata": {
        "id": "L6IMfrZLx5km"
      }
    },
    {
      "cell_type": "code",
      "source": [
        "multiple_atribut = three_record.loc[:, ['casual', 'registered', 'cnt']]\n",
        "print(multiple_atribut)"
      ],
      "metadata": {
        "colab": {
          "base_uri": "https://localhost:8080/"
        },
        "id": "-gc5-Q4fpjJn",
        "outputId": "898206ba-299b-44f4-9e7f-8e69fe59a114"
      },
      "execution_count": 5,
      "outputs": [
        {
          "output_type": "stream",
          "name": "stdout",
          "text": [
            "   casual  registered   cnt\n",
            "0     331         654   985\n",
            "1     131         670   801\n",
            "2     120        1229  1349\n"
          ]
        }
      ]
    },
    {
      "cell_type": "markdown",
      "source": [
        "### **Mendeteksi dan menampilkan outlier**"
      ],
      "metadata": {
        "id": "L5V_GbCKqMpT"
      }
    },
    {
      "cell_type": "code",
      "source": [
        "# Pilih kolom-kolom yang ingin Anda deteksi outlier-nya\n",
        "kolom_target = ['casual', 'registered', 'cnt']"
      ],
      "metadata": {
        "id": "NhBZAfzr2cXM"
      },
      "execution_count": 6,
      "outputs": []
    },
    {
      "cell_type": "code",
      "source": [
        "# Definisikan fungsi untuk mendeteksi outlier\n",
        "def detect_outliers(data, kolom):\n",
        "    outliers = []\n",
        "    threshold = 3\n",
        "    mean = np.mean(data[kolom])\n",
        "    std = np.std(data[kolom])\n",
        "    z_scores = np.abs(stats.zscore(data[kolom]))\n",
        "    kolom_outliers = data[z_scores > threshold]\n",
        "    return kolom_outliers\n",
        "\n",
        "# Lakukan deteksi outlier untuk setiap kolom yang dipilih\n",
        "outlier_datapoints = {}\n",
        "for kolom in kolom_target:\n",
        "    outlier_datapoints[kolom] = detect_outliers(data_day, kolom)\n",
        "\n",
        "# Tampilkan hasil deteksi outlier untuk setiap kolom\n",
        "for kolom, outlier_data in outlier_datapoints.items():\n",
        "    print(f\"Outliers in {kolom}:\")\n",
        "    print(outlier_data)\n",
        "    print()"
      ],
      "metadata": {
        "colab": {
          "base_uri": "https://localhost:8080/"
        },
        "id": "u3KAHCNL3saB",
        "outputId": "1ac1f99e-a1d4-464b-a523-d6ced3ab0457"
      },
      "execution_count": 7,
      "outputs": [
        {
          "output_type": "stream",
          "name": "stdout",
          "text": [
            "Outliers in casual:\n",
            "     instant      dteday  season  yr  mnth  holiday  weekday  workingday  \\\n",
            "184      185  2011-07-04       3   0     7        1        1           0   \n",
            "441      442  2012-03-17       1   1     3        0        6           0   \n",
            "462      463  2012-04-07       2   1     4        0        6           0   \n",
            "504      505  2012-05-19       2   1     5        0        6           0   \n",
            "512      513  2012-05-27       2   1     5        0        0           0   \n",
            "532      533  2012-06-16       2   1     6        0        6           0   \n",
            "623      624  2012-09-15       3   1     9        0        6           0   \n",
            "644      645  2012-10-06       4   1    10        0        6           0   \n",
            "\n",
            "     weathersit      temp     atemp       hum  windspeed  casual  registered  \\\n",
            "184           2  0.726667  0.665417  0.637917   0.081479    3065        2978   \n",
            "441           2  0.514167  0.505046  0.755833   0.110704    3155        4681   \n",
            "462           1  0.437500  0.426129  0.254167   0.274871    3252        3605   \n",
            "504           1  0.600000  0.566908  0.456250   0.083975    3410        4884   \n",
            "512           1  0.690000  0.641425  0.697083   0.215171    3283        3308   \n",
            "532           1  0.631667  0.594708  0.504167   0.166667    2963        4739   \n",
            "623           1  0.608333  0.585867  0.501667   0.247521    3160        5554   \n",
            "644           1  0.554167  0.538521  0.664167   0.268025    3031        4934   \n",
            "\n",
            "      cnt  \n",
            "184  6043  \n",
            "441  7836  \n",
            "462  6857  \n",
            "504  8294  \n",
            "512  6591  \n",
            "532  7702  \n",
            "623  8714  \n",
            "644  7965  \n",
            "\n",
            "Outliers in registered:\n",
            "Empty DataFrame\n",
            "Columns: [instant, dteday, season, yr, mnth, holiday, weekday, workingday, weathersit, temp, atemp, hum, windspeed, casual, registered, cnt]\n",
            "Index: []\n",
            "\n",
            "Outliers in cnt:\n",
            "Empty DataFrame\n",
            "Columns: [instant, dteday, season, yr, mnth, holiday, weekday, workingday, weathersit, temp, atemp, hum, windspeed, casual, registered, cnt]\n",
            "Index: []\n",
            "\n"
          ]
        }
      ]
    },
    {
      "cell_type": "markdown",
      "source": [
        "### **Menghilangkan outlier dari DataFrame df berdasarkan metode z-score.**"
      ],
      "metadata": {
        "id": "8sG58qcKAB2_"
      }
    },
    {
      "cell_type": "markdown",
      "source": [
        "Output : kita akan mendapatkan DataFrame baru new_data_day yang telah dihapus outlier-nya dari kolom yang telah dipilih"
      ],
      "metadata": {
        "id": "P4tzh5vHAUkW"
      }
    },
    {
      "cell_type": "code",
      "source": [
        "# Hitung z-score untuk kolom yang dipilih\n",
        "z_scores = stats.zscore(data_day[kolom_target])\n",
        "\n",
        "# Ambil nilai absolut dari z-score\n",
        "abs_z_scores = np.abs(z_scores)\n",
        "\n",
        "# Buat kondisi untuk menghapus outlier\n",
        "filtered_entries = (abs_z_scores < 3).all(axis=1)\n",
        "\n",
        "# Buat DataFrame baru tanpa outlier\n",
        "new_data_day = data_day[filtered_entries]\n",
        "\n",
        "# Tampilkan DataFrame baru tanpa outlier\n",
        "print(new_data_day)"
      ],
      "metadata": {
        "colab": {
          "base_uri": "https://localhost:8080/"
        },
        "id": "-hvs_U09-xTX",
        "outputId": "4b3cc5c4-6885-4950-f0fd-3224038ae8b2"
      },
      "execution_count": 8,
      "outputs": [
        {
          "output_type": "stream",
          "name": "stdout",
          "text": [
            "     instant      dteday  season  yr  mnth  holiday  weekday  workingday  \\\n",
            "0          1  2011-01-01       1   0     1        0        6           0   \n",
            "1          2  2011-01-02       1   0     1        0        0           0   \n",
            "2          3  2011-01-03       1   0     1        0        1           1   \n",
            "3          4  2011-01-04       1   0     1        0        2           1   \n",
            "4          5  2011-01-05       1   0     1        0        3           1   \n",
            "..       ...         ...     ...  ..   ...      ...      ...         ...   \n",
            "726      727  2012-12-27       1   1    12        0        4           1   \n",
            "727      728  2012-12-28       1   1    12        0        5           1   \n",
            "728      729  2012-12-29       1   1    12        0        6           0   \n",
            "729      730  2012-12-30       1   1    12        0        0           0   \n",
            "730      731  2012-12-31       1   1    12        0        1           1   \n",
            "\n",
            "     weathersit      temp     atemp       hum  windspeed  casual  registered  \\\n",
            "0             2  0.344167  0.363625  0.805833   0.160446     331         654   \n",
            "1             2  0.363478  0.353739  0.696087   0.248539     131         670   \n",
            "2             1  0.196364  0.189405  0.437273   0.248309     120        1229   \n",
            "3             1  0.200000  0.212122  0.590435   0.160296     108        1454   \n",
            "4             1  0.226957  0.229270  0.436957   0.186900      82        1518   \n",
            "..          ...       ...       ...       ...        ...     ...         ...   \n",
            "726           2  0.254167  0.226642  0.652917   0.350133     247        1867   \n",
            "727           2  0.253333  0.255046  0.590000   0.155471     644        2451   \n",
            "728           2  0.253333  0.242400  0.752917   0.124383     159        1182   \n",
            "729           1  0.255833  0.231700  0.483333   0.350754     364        1432   \n",
            "730           2  0.215833  0.223487  0.577500   0.154846     439        2290   \n",
            "\n",
            "      cnt  \n",
            "0     985  \n",
            "1     801  \n",
            "2    1349  \n",
            "3    1562  \n",
            "4    1600  \n",
            "..    ...  \n",
            "726  2114  \n",
            "727  3095  \n",
            "728  1341  \n",
            "729  1796  \n",
            "730  2729  \n",
            "\n",
            "[723 rows x 16 columns]\n"
          ]
        }
      ]
    },
    {
      "cell_type": "code",
      "source": [
        "new_data_columns = new_data_day.loc[:, ['casual', 'registered', 'cnt']]\n",
        "print(new_data_columns)"
      ],
      "metadata": {
        "colab": {
          "base_uri": "https://localhost:8080/"
        },
        "id": "aaieltefn3fy",
        "outputId": "6aaaa2d1-e3dc-4f8a-902f-7cb006c9fc67"
      },
      "execution_count": 14,
      "outputs": [
        {
          "output_type": "stream",
          "name": "stdout",
          "text": [
            "     casual  registered   cnt\n",
            "0       331         654   985\n",
            "1       131         670   801\n",
            "2       120        1229  1349\n",
            "3       108        1454  1562\n",
            "4        82        1518  1600\n",
            "..      ...         ...   ...\n",
            "726     247        1867  2114\n",
            "727     644        2451  3095\n",
            "728     159        1182  1341\n",
            "729     364        1432  1796\n",
            "730     439        2290  2729\n",
            "\n",
            "[723 rows x 3 columns]\n"
          ]
        }
      ]
    },
    {
      "cell_type": "markdown",
      "source": [
        "## **Mendeteksi Missing Value**"
      ],
      "metadata": {
        "id": "L0B3hBwtAsFk"
      }
    },
    {
      "cell_type": "code",
      "source": [
        "new_data_columns.isna().sum()"
      ],
      "metadata": {
        "colab": {
          "base_uri": "https://localhost:8080/"
        },
        "id": "ZpIrcvhPArzJ",
        "outputId": "c5158273-a254-4d37-8185-3f024d73147c"
      },
      "execution_count": 15,
      "outputs": [
        {
          "output_type": "execute_result",
          "data": {
            "text/plain": [
              "casual        0\n",
              "registered    0\n",
              "cnt           0\n",
              "dtype: int64"
            ]
          },
          "metadata": {},
          "execution_count": 15
        }
      ]
    },
    {
      "cell_type": "markdown",
      "source": [
        "Tidak ditemukan adanya missing value sehingga tidak perlu dilakukan langkah-langkah penanganan terhadap missing value"
      ],
      "metadata": {
        "id": "ut6auDFKBJ6a"
      }
    },
    {
      "cell_type": "markdown",
      "source": [
        "## **Normalisasi**"
      ],
      "metadata": {
        "id": "yKl2rit5B2Sa"
      }
    },
    {
      "cell_type": "code",
      "source": [
        "from sklearn import preprocessing"
      ],
      "metadata": {
        "id": "e5SvjbKXC1Bg"
      },
      "execution_count": 16,
      "outputs": []
    },
    {
      "cell_type": "code",
      "source": [
        "min_max_scaler = preprocessing.MinMaxScaler()\n",
        "np_scaled = min_max_scaler.fit_transform(new_data_columns)\n",
        "df_normalized = pd.DataFrame(np_scaled)\n",
        "\n",
        "print(\"\\nData hasil normalisasi:\\n\", df_normalized)"
      ],
      "metadata": {
        "colab": {
          "base_uri": "https://localhost:8080/"
        },
        "id": "HyvDquIYB6Na",
        "outputId": "34a4cba4-6f6d-4075-8610-6ed8ee42dd0b"
      },
      "execution_count": 17,
      "outputs": [
        {
          "output_type": "stream",
          "name": "stdout",
          "text": [
            "\n",
            "Data hasil normalisasi:\n",
            "             0         1         2\n",
            "0    0.115317  0.091539  0.112856\n",
            "1    0.045216  0.093849  0.091293\n",
            "2    0.041360  0.174560  0.155514\n",
            "3    0.037154  0.207046  0.180476\n",
            "4    0.028041  0.216286  0.184929\n",
            "..        ...       ...       ...\n",
            "718  0.085875  0.266676  0.245166\n",
            "719  0.225026  0.350996  0.360131\n",
            "720  0.055030  0.167774  0.154576\n",
            "721  0.126884  0.203869  0.207899\n",
            "722  0.153172  0.327751  0.317239\n",
            "\n",
            "[723 rows x 3 columns]\n"
          ]
        }
      ]
    }
  ]
}