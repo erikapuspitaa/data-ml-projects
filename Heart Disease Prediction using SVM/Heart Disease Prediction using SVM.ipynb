{
  "nbformat": 4,
  "nbformat_minor": 0,
  "metadata": {
    "colab": {
      "provenance": []
    },
    "kernelspec": {
      "name": "python3",
      "display_name": "Python 3"
    },
    "language_info": {
      "name": "python"
    }
  },
  "cells": [
    {
      "cell_type": "markdown",
      "source": [
        "# **Heart Disease Prediction using SVM**\n",
        "\n"
      ],
      "metadata": {
        "id": "PaWtUkWIKFz3"
      }
    },
    {
      "cell_type": "markdown",
      "source": [
        "## **About Dataset**"
      ],
      "metadata": {
        "id": "jU_9gymsKPGs"
      }
    },
    {
      "cell_type": "markdown",
      "source": [
        "Penyakit kardiovaskular (CVD) merupakan penyebab kematian nomor 1 secara global, merenggut sekitar 17,9 juta jiwa setiap tahunnya, atau menyumbang 31% dari seluruh kematian di seluruh dunia. Empat dari kematian 5CVD disebabkan oleh serangan jantung dan stroke, dan sepertiga dari kematian ini terjadi sebelum waktunya pada orang di bawah usia 70 tahun. Gagal jantung adalah kejadian umum yang disebabkan oleh penyakit kardiovaskular dan kumpulan data ini berisi 11 fitur yang dapat digunakan untuk memprediksi kemungkinan penyakit jantung.\n",
        "\n",
        "Orang dengan penyakit kardiovaskular atau yang memiliki risiko kardiovaskular tinggi (karena adanya satu atau lebih faktor risiko seperti hipertensi, diabetes, hiperlipidemia, atau penyakit yang sudah ada) memerlukan deteksi dan manajemen dini sehingga model pembelajaran mesin SVM ini dapat sangat membantu."
      ],
      "metadata": {
        "id": "JfsACn58KUrs"
      }
    },
    {
      "cell_type": "markdown",
      "source": [
        "## **Attribute Information**\n",
        "- Age: age of the patient [years]\n",
        "- Sex: sex of the patient [M: Male, F: Female]\n",
        "- ChestPainType: chest pain type [TA: Typical Angina, ATA: Atypical Angina, NAP: Non-Anginal Pain, ASY: Asymptomatic]\n",
        "- RestingBP: resting blood pressure [mm Hg]\n",
        "- Cholesterol: serum cholesterol [mm/dl]\n",
        "- FastingBS: fasting blood sugar [1: if FastingBS > 120 mg/dl, 0: otherwise]\n",
        "- RestingECG: resting electrocardiogram results [Normal: Normal, ST: having ST-T wave abnormality (T wave inversions and/or ST elevation or depression of > 0.05 mV), LVH: showing probable or definite left ventricular hypertrophy by Estes' criteria]\n",
        "- MaxHR: maximum heart rate achieved [Numeric value between 60 and 202]\n",
        "- ExerciseAngina: exercise-induced angina [Y: Yes, N: No]\n",
        "- Oldpeak: oldpeak = ST [Numeric value measured in depression]\n",
        "- ST_Slope: the slope of the peak exercise ST segment [Up: upsloping, Flat: flat, Down: downsloping]\n",
        "- HeartDisease: output class [1: heart disease, 0: Normal]"
      ],
      "metadata": {
        "id": "0oOFP8AfKj9c"
      }
    },
    {
      "cell_type": "code",
      "execution_count": 8,
      "metadata": {
        "id": "29KrWLCVHsq2"
      },
      "outputs": [],
      "source": [
        "import numpy as np\n",
        "import pandas as pd\n",
        "from sklearn import datasets\n",
        "from sklearn.metrics import confusion_matrix\n",
        "from sklearn.metrics import accuracy_score\n",
        "from sklearn.model_selection import train_test_split,cross_val_score\n",
        "from sklearn.svm import SVC\n",
        "from sklearn.preprocessing import LabelEncoder"
      ]
    },
    {
      "cell_type": "code",
      "source": [
        "df = pd.read_csv(\"heartdisease.csv\")\n",
        "print(df)"
      ],
      "metadata": {
        "colab": {
          "base_uri": "https://localhost:8080/"
        },
        "id": "wGXEbsZZILAk",
        "outputId": "740714ad-7c53-41e7-e4f4-4f22b7496c9c"
      },
      "execution_count": 9,
      "outputs": [
        {
          "output_type": "stream",
          "name": "stdout",
          "text": [
            "     Age Sex ChestPainType  RestingBP  Cholesterol  FastingBS RestingECG  \\\n",
            "0     40   M           ATA        140          289          0     Normal   \n",
            "1     49   F           NAP        160          180          0     Normal   \n",
            "2     37   M           ATA        130          283          0         ST   \n",
            "3     48   F           ASY        138          214          0     Normal   \n",
            "4     54   M           NAP        150          195          0     Normal   \n",
            "..   ...  ..           ...        ...          ...        ...        ...   \n",
            "913   45   M            TA        110          264          0     Normal   \n",
            "914   68   M           ASY        144          193          1     Normal   \n",
            "915   57   M           ASY        130          131          0     Normal   \n",
            "916   57   F           ATA        130          236          0        LVH   \n",
            "917   38   M           NAP        138          175          0     Normal   \n",
            "\n",
            "     MaxHR ExerciseAngina  Oldpeak ST_Slope  HeartDisease  \n",
            "0      172              N      0.0       Up             0  \n",
            "1      156              N      1.0     Flat             1  \n",
            "2       98              N      0.0       Up             0  \n",
            "3      108              Y      1.5     Flat             1  \n",
            "4      122              N      0.0       Up             0  \n",
            "..     ...            ...      ...      ...           ...  \n",
            "913    132              N      1.2     Flat             1  \n",
            "914    141              N      3.4     Flat             1  \n",
            "915    115              Y      1.2     Flat             1  \n",
            "916    174              N      0.0     Flat             1  \n",
            "917    173              N      0.0       Up             0  \n",
            "\n",
            "[918 rows x 12 columns]\n"
          ]
        }
      ]
    },
    {
      "cell_type": "markdown",
      "source": [
        "## **Mengubah kolom-kolom kategorikal menjadi numerik**"
      ],
      "metadata": {
        "id": "yPYevnCQQnPw"
      }
    },
    {
      "cell_type": "code",
      "source": [
        "labelencoder = LabelEncoder()\n",
        "df['Sex'] = labelencoder.fit_transform(df['Sex'])\n",
        "df['ChestPainType'] = labelencoder.fit_transform(df['ChestPainType'])\n",
        "df['RestingECG'] = labelencoder.fit_transform(df['RestingECG'])\n",
        "df['ExerciseAngina'] = labelencoder.fit_transform(df['ExerciseAngina'])\n",
        "df['ST_Slope'] = labelencoder.fit_transform(df['ST_Slope'])\n",
        "print(df)"
      ],
      "metadata": {
        "colab": {
          "base_uri": "https://localhost:8080/"
        },
        "id": "Mzlvdt_tIMr2",
        "outputId": "32205c22-67cd-4c17-c087-ec3af580a58c"
      },
      "execution_count": 10,
      "outputs": [
        {
          "output_type": "stream",
          "name": "stdout",
          "text": [
            "     Age  Sex  ChestPainType  RestingBP  Cholesterol  FastingBS  RestingECG  \\\n",
            "0     40    1              1        140          289          0           1   \n",
            "1     49    0              2        160          180          0           1   \n",
            "2     37    1              1        130          283          0           2   \n",
            "3     48    0              0        138          214          0           1   \n",
            "4     54    1              2        150          195          0           1   \n",
            "..   ...  ...            ...        ...          ...        ...         ...   \n",
            "913   45    1              3        110          264          0           1   \n",
            "914   68    1              0        144          193          1           1   \n",
            "915   57    1              0        130          131          0           1   \n",
            "916   57    0              1        130          236          0           0   \n",
            "917   38    1              2        138          175          0           1   \n",
            "\n",
            "     MaxHR  ExerciseAngina  Oldpeak  ST_Slope  HeartDisease  \n",
            "0      172               0      0.0         2             0  \n",
            "1      156               0      1.0         1             1  \n",
            "2       98               0      0.0         2             0  \n",
            "3      108               1      1.5         1             1  \n",
            "4      122               0      0.0         2             0  \n",
            "..     ...             ...      ...       ...           ...  \n",
            "913    132               0      1.2         1             1  \n",
            "914    141               0      3.4         1             1  \n",
            "915    115               1      1.2         1             1  \n",
            "916    174               0      0.0         1             1  \n",
            "917    173               0      0.0         2             0  \n",
            "\n",
            "[918 rows x 12 columns]\n"
          ]
        }
      ]
    },
    {
      "cell_type": "markdown",
      "source": [
        "## **Pemisahan Variabel dan Kelas**"
      ],
      "metadata": {
        "id": "Z29GxwuYQ7i8"
      }
    },
    {
      "cell_type": "code",
      "source": [
        "x = df.iloc[:,:-1]\n",
        "y = df.iloc[:, 11]\n",
        "print(\"data variabel\".center(100,\"=\"))\n",
        "print(x)\n",
        "print(\"data kelas\".center(100,\"=\"))\n",
        "print(y)"
      ],
      "metadata": {
        "colab": {
          "base_uri": "https://localhost:8080/"
        },
        "id": "xskYJiQQINa_",
        "outputId": "c45239e7-a601-462d-dacd-45918a6f300c"
      },
      "execution_count": 11,
      "outputs": [
        {
          "output_type": "stream",
          "name": "stdout",
          "text": [
            "===========================================data variabel============================================\n",
            "     Age  Sex  ChestPainType  RestingBP  Cholesterol  FastingBS  RestingECG  \\\n",
            "0     40    1              1        140          289          0           1   \n",
            "1     49    0              2        160          180          0           1   \n",
            "2     37    1              1        130          283          0           2   \n",
            "3     48    0              0        138          214          0           1   \n",
            "4     54    1              2        150          195          0           1   \n",
            "..   ...  ...            ...        ...          ...        ...         ...   \n",
            "913   45    1              3        110          264          0           1   \n",
            "914   68    1              0        144          193          1           1   \n",
            "915   57    1              0        130          131          0           1   \n",
            "916   57    0              1        130          236          0           0   \n",
            "917   38    1              2        138          175          0           1   \n",
            "\n",
            "     MaxHR  ExerciseAngina  Oldpeak  ST_Slope  \n",
            "0      172               0      0.0         2  \n",
            "1      156               0      1.0         1  \n",
            "2       98               0      0.0         2  \n",
            "3      108               1      1.5         1  \n",
            "4      122               0      0.0         2  \n",
            "..     ...             ...      ...       ...  \n",
            "913    132               0      1.2         1  \n",
            "914    141               0      3.4         1  \n",
            "915    115               1      1.2         1  \n",
            "916    174               0      0.0         1  \n",
            "917    173               0      0.0         2  \n",
            "\n",
            "[918 rows x 11 columns]\n",
            "=============================================data kelas=============================================\n",
            "0      0\n",
            "1      1\n",
            "2      0\n",
            "3      1\n",
            "4      0\n",
            "      ..\n",
            "913    1\n",
            "914    1\n",
            "915    1\n",
            "916    1\n",
            "917    0\n",
            "Name: HeartDisease, Length: 918, dtype: int64\n"
          ]
        }
      ]
    },
    {
      "cell_type": "markdown",
      "source": [
        "## **Membagi Dataset menjadi Data Training dan Testing**"
      ],
      "metadata": {
        "id": "lsCylucLRWig"
      }
    },
    {
      "cell_type": "code",
      "source": [
        "x_train, x_test, y_train, y_test=train_test_split(x,y, test_size=0.30, random_state=100)\n",
        "print(\"data variabel training\".center(100,\"=\"))\n",
        "print(x_train)\n",
        "print(\"data kelas testing\".center(100,\"=\"))\n",
        "print(x_test)\n",
        "print(\"data variabel training\".center(100,\"=\"))\n",
        "print(y_train)\n",
        "print(\"data variabel testing\".center(100,\"=\"))\n",
        "print(y_test)"
      ],
      "metadata": {
        "colab": {
          "base_uri": "https://localhost:8080/"
        },
        "id": "Rd8TplGJIPWt",
        "outputId": "19aa7aac-875b-46c2-fd5f-ee57ee70c4e6"
      },
      "execution_count": 12,
      "outputs": [
        {
          "output_type": "stream",
          "name": "stdout",
          "text": [
            "=======================================data variabel training=======================================\n",
            "     Age  Sex  ChestPainType  RestingBP  Cholesterol  FastingBS  RestingECG  \\\n",
            "288   48    0              1        133          308          0           2   \n",
            "105   57    1              1        140          260          1           1   \n",
            "501   63    1              0        130          308          0           1   \n",
            "745   63    0              0        108          269          0           1   \n",
            "69    44    1              0        150          412          0           1   \n",
            "..   ...  ...            ...        ...          ...        ...         ...   \n",
            "855   68    1              2        180          274          1           0   \n",
            "871   61    1              2        150          243          1           1   \n",
            "835   54    1              0        110          239          0           1   \n",
            "792   46    1              2        150          231          0           1   \n",
            "520   64    1              0        130          223          0           2   \n",
            "\n",
            "     MaxHR  ExerciseAngina  Oldpeak  ST_Slope  \n",
            "288    156               0      2.0         2  \n",
            "105    140               0      0.0         2  \n",
            "501    138               1      2.0         1  \n",
            "745    169               1      1.8         1  \n",
            "69     170               0      0.0         2  \n",
            "..     ...             ...      ...       ...  \n",
            "855    150               1      1.6         1  \n",
            "871    137               1      1.0         1  \n",
            "835    126               1      2.8         1  \n",
            "792    147               0      3.6         1  \n",
            "520    128               0      0.5         1  \n",
            "\n",
            "[642 rows x 11 columns]\n",
            "=========================================data kelas testing=========================================\n",
            "     Age  Sex  ChestPainType  RestingBP  Cholesterol  FastingBS  RestingECG  \\\n",
            "428   62    1              0        110            0          0           1   \n",
            "424   60    1              2        120            0          1           1   \n",
            "799   53    1              2        130          246          1           0   \n",
            "173   49    1              2        140          187          0           1   \n",
            "391   70    1              0        115            0          0           2   \n",
            "..   ...  ...            ...        ...          ...        ...         ...   \n",
            "883   57    1              0        140          192          0           1   \n",
            "218   55    1              1        140          196          0           1   \n",
            "395   38    1              0        135            0          1           1   \n",
            "512   35    1              2        123          161          0           2   \n",
            "111   57    1              0        150          255          0           1   \n",
            "\n",
            "     MaxHR  ExerciseAngina  Oldpeak  ST_Slope  \n",
            "428    120               1      0.5         1  \n",
            "424    141               1      2.0         2  \n",
            "799    173               0      0.0         2  \n",
            "173    172               0      0.0         2  \n",
            "391     92               1      0.0         1  \n",
            "..     ...             ...      ...       ...  \n",
            "883    148               0      0.4         1  \n",
            "218    150               0      0.0         2  \n",
            "395    150               0      0.0         1  \n",
            "512    153               0     -0.1         2  \n",
            "111     92               1      3.0         1  \n",
            "\n",
            "[276 rows x 11 columns]\n",
            "=======================================data variabel training=======================================\n",
            "288    0\n",
            "105    0\n",
            "501    1\n",
            "745    1\n",
            "69     0\n",
            "      ..\n",
            "855    1\n",
            "871    0\n",
            "835    1\n",
            "792    1\n",
            "520    0\n",
            "Name: HeartDisease, Length: 642, dtype: int64\n",
            "=======================================data variabel testing========================================\n",
            "428    1\n",
            "424    1\n",
            "799    0\n",
            "173    0\n",
            "391    1\n",
            "      ..\n",
            "883    0\n",
            "218    0\n",
            "395    1\n",
            "512    0\n",
            "111    1\n",
            "Name: HeartDisease, Length: 276, dtype: int64\n"
          ]
        }
      ]
    },
    {
      "cell_type": "markdown",
      "source": [
        "## **Melatih Model Support Vector Machine (SVM)**"
      ],
      "metadata": {
        "id": "mIdGa7C1RlE-"
      }
    },
    {
      "cell_type": "code",
      "source": [
        "model = SVC()\n",
        "model.fit(x_train, y_train)\n",
        "y_pred = model.predict(x_test)\n",
        "print(\"hasil prediksi svm\")\n",
        "print(y_pred)"
      ],
      "metadata": {
        "colab": {
          "base_uri": "https://localhost:8080/"
        },
        "id": "4MBP6fm1ISb2",
        "outputId": "25facae8-863e-4a44-8651-39ebca3ca7b8"
      },
      "execution_count": 13,
      "outputs": [
        {
          "output_type": "stream",
          "name": "stdout",
          "text": [
            "hasil prediksi svm\n",
            "[1 1 0 0 1 0 0 0 1 0 0 1 1 0 1 0 1 1 1 1 0 1 1 1 0 0 0 0 0 0 1 1 1 0 1 1 1\n",
            " 0 0 1 1 1 0 0 1 0 0 1 0 0 1 0 1 0 1 1 0 1 1 0 1 1 0 1 1 0 1 1 0 0 0 1 1 1\n",
            " 0 1 0 0 0 0 1 1 1 0 1 1 0 1 0 1 0 0 1 1 1 0 1 1 0 0 0 0 1 1 1 1 1 0 0 1 0\n",
            " 0 0 1 1 1 1 0 1 0 1 0 0 1 0 1 0 1 0 1 1 1 1 1 0 0 0 1 1 0 1 0 1 0 0 0 0 1\n",
            " 1 0 1 1 1 1 1 0 1 0 1 1 0 1 0 1 1 0 0 1 1 1 1 0 1 1 0 1 1 1 1 1 0 0 0 1 0\n",
            " 1 1 1 0 0 0 0 0 0 1 1 1 1 1 1 1 0 0 0 1 1 1 0 0 1 1 0 1 1 1 1 0 1 1 1 0 1\n",
            " 1 1 1 1 0 1 0 1 0 1 0 1 0 0 1 1 1 1 1 0 0 1 0 0 1 0 1 0 0 0 1 0 1 1 1 1 0\n",
            " 0 0 1 0 1 1 1 1 1 1 0 1 0 0 1 0 1]\n"
          ]
        }
      ]
    },
    {
      "cell_type": "markdown",
      "source": [
        "- Model SVM melakukan prediksi dengan memberikan label 1 atau 0 untuk setiap data pengujian.\n",
        "- Label 1 menunjukkan bahwa model memprediksi pasien memiliki penyakit tertentu, sementara label 0 mungkin menunjukkan bahwa model memprediksi pasien tidak memiliki penyakit tersebut."
      ],
      "metadata": {
        "id": "IKbzTZZfR_hQ"
      }
    },
    {
      "cell_type": "code",
      "source": [
        "print(\"Hasil confusion matrix\")\n",
        "print(confusion_matrix(y_test, y_pred))\n",
        "print(\"Hasil akurasi pemodelan SVM =\", accuracy_score(y_test, y_pred))"
      ],
      "metadata": {
        "colab": {
          "base_uri": "https://localhost:8080/"
        },
        "id": "c3Pe5L38IWSA",
        "outputId": "dbd384e6-caf9-47e1-8f79-ae15a9000d7b"
      },
      "execution_count": 14,
      "outputs": [
        {
          "output_type": "stream",
          "name": "stdout",
          "text": [
            "Hasil confusion matrix\n",
            "[[ 85  37]\n",
            " [ 35 119]]\n",
            "Hasil akurasi pemodelan SVM = 0.7391304347826086\n"
          ]
        }
      ]
    },
    {
      "cell_type": "markdown",
      "source": [
        "Dari hasil confusion matrix, diperoleh bahwa :\n",
        "- 85 True Negative (kasus negatif yang diprediksi benar)\n",
        "- 37 False Positive (kasus negatif yang diprediksi positif)\n",
        "- 35 False Negative (kasus positif yang diprediksi negatif)\n",
        "- 119 True Positive (kasus positif yang diprediksi benar)\n",
        "\n",
        "Dengan akurasi SVM 73%"
      ],
      "metadata": {
        "id": "4_4g2bGKSVg6"
      }
    }
  ]
}